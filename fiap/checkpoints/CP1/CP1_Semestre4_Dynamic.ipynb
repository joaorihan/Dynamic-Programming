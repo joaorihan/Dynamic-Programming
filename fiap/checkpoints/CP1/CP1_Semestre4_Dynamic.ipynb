{
  "cells": [
    {
      "cell_type": "code",
      "execution_count": 29,
      "metadata": {
        "id": "iQYyKrR78JBk"
      },
      "outputs": [],
      "source": [
        "# CheckPoint 1, Semetre 4\n",
        "# Nesse notebook será mostrado o desempenho de cada tipo de algoritimo, serão usados algoritmos: Tradicional, Strassen, Winograd e Karstadt\n"
      ]
    },
    {
      "cell_type": "code",
      "source": [
        "pip install memory-profiler"
      ],
      "metadata": {
        "colab": {
          "base_uri": "https://localhost:8080/"
        },
        "id": "I8R4Avm-FJ36",
        "outputId": "9410cfb1-11c7-4832-eb4e-ab0677647c1a"
      },
      "execution_count": 30,
      "outputs": [
        {
          "output_type": "stream",
          "name": "stdout",
          "text": [
            "Requirement already satisfied: memory-profiler in /usr/local/lib/python3.10/dist-packages (0.61.0)\n",
            "Requirement already satisfied: psutil in /usr/local/lib/python3.10/dist-packages (from memory-profiler) (5.9.5)\n"
          ]
        }
      ]
    },
    {
      "cell_type": "code",
      "execution_count": 31,
      "metadata": {
        "id": "gyriSLVs-coW"
      },
      "outputs": [],
      "source": [
        "import numpy as np #Biblioteca escolhida para efetuar criação de matrizes e multiplicação das mesmas.\n",
        "import time #Biblioteca escolhida para efutar diferença de tempo, para a realização de desempenho por tempo\n",
        "import matplotlib.pyplot as plt #Bilblioteca para disposição dos gráficos\n",
        "import timeit #Biblioteca de tempo que aceita tempos logarítmicos\n",
        "from memory_profiler import memory_usage #Biblioteca de uso de memória"
      ]
    },
    {
      "cell_type": "code",
      "execution_count": 32,
      "metadata": {
        "id": "BvPlolGHBCR9"
      },
      "outputs": [],
      "source": [
        "\"\"\"\n",
        "Esta função é um algorítimo de múltiplicação de matrizes tradicional.\n",
        "\n",
        "@return A matriz resultante da multiplicação de A por B\n",
        "@throws ValueError se o número de colunas de A não for igual ao número de linhas de B\n",
        "\"\"\"\n",
        "def AlgTradicional(A, B):\n",
        "    #param A: Matriz A representada como um array 2d\n",
        "    #param B: Matriz B representada como um array 2d\n",
        "\n",
        "    # Obtém o número de linhas e colunas da matriz A\n",
        "    rows_A, cols_A = A.shape\n",
        "    # Obtém o número de linhas e colunas da matriz B\n",
        "    rows_B, cols_B = B.shape\n",
        "\n",
        "\n",
        "    # Verifica se a multiplicação é possível, comparando o número de colunas de A e o número de linhas de B\n",
        "    if cols_A != rows_B:\n",
        "        # Caso não seja, nos joga uma exceção, e para a execução do código\n",
        "        raise ValueError(\"O número de colunas de A deve ser igual ao número de linhas de B para multiplicação de matrizes.\")\n",
        "\n",
        "    # Declara a matriz C e a preenche com zeros, tendo o numero de linhas de A e colunas de B\n",
        "    C = np.zeros((rows_A, cols_B))\n",
        "\n",
        "    start_time = time.time()\n",
        "\n",
        "    # Percorre cada linha de A\n",
        "    for i in range(rows_A):\n",
        "        # Percorre cada coluna de B\n",
        "        for j in range(cols_B):\n",
        "            # Percorre cada coluna de A\n",
        "            for k in range(cols_A):\n",
        "                # Multiplica o produto de A[i, k] com B[k, j] e adiciona a C em seu respectivo índice\n",
        "                C[i, j] += A[i, k] * B[k, j]\n",
        "\n",
        "    end_time = time.time()\n",
        "\n",
        "    execution_time = end_time - start_time\n",
        "\n",
        "    print(f\"Tempo de execução: {execution_time:.6f} segundos\")\n",
        "\n",
        "    # Retorna a matriz C, resultante da multiplicação\n",
        "    return C"
      ]
    },
    {
      "cell_type": "code",
      "execution_count": 33,
      "metadata": {
        "id": "SXfPr-ijCDYD"
      },
      "outputs": [],
      "source": [
        "def AlgStrassen(A,B):\n",
        "    #param A: Matriz A representada como um array 2d\n",
        "    #param B: Matriz B representada como um array 2d\n",
        "\n",
        "    n = len(A)\n",
        "    if n <= 2:  # Base case\n",
        "        return np.dot(A, B)\n",
        "\n",
        "    # Partition matrices into submatrices\n",
        "    mid = n // 2\n",
        "    A11 = A[:mid, :mid]\n",
        "    A12 = A[:mid, mid:]\n",
        "    A21 = A[mid:, :mid]\n",
        "    A22 = A[mid:, mid:]\n",
        "    B11 = B[:mid, :mid]\n",
        "    B12 = B[:mid, mid:]\n",
        "    B21 = B[mid:, :mid]\n",
        "    B22 = B[mid:, mid:]\n",
        "\n",
        "    # Recursive multiplication\n",
        "    P1 = AlgStrassen(A11, B12 - B22)\n",
        "    P2 = AlgStrassen(A11 + A12, B22)\n",
        "    P3 = AlgStrassen(A21 + A22, B11)\n",
        "    P4 = AlgStrassen(A22, B21 - B11)\n",
        "    P5 = AlgStrassen(A11 + A22, B11 + B22)\n",
        "    P6 = AlgStrassen(A12 - A22, B21 + B22)\n",
        "    P7 = AlgStrassen(A11 - A21, B11 + B12)\n",
        "\n",
        "    # Combine results to form C\n",
        "    C11 = P5 + P4 - P2 + P6\n",
        "    C12 = P1 + P2\n",
        "    C21 = P3 + P4\n",
        "    C22 = P5 + P1 - P3 - P7\n",
        "\n",
        "    # Combine quadrants to form C\n",
        "    D = np.vstack((np.hstack((C11, C12)), np.hstack((C21, C22))))\n",
        "    return D"
      ]
    },
    {
      "cell_type": "code",
      "execution_count": 34,
      "metadata": {
        "id": "nLHd75ubZexd"
      },
      "outputs": [],
      "source": [
        "def AlgWinograd(A, B):\n",
        "    #param A: Matriz A representada como um array 2d\n",
        "    #param B: Matriz B representada como um array 2d\n",
        "\n",
        "    # Elementos da matriz A\n",
        "    a11, a12 = A[0][0], A[0][1]\n",
        "    a21, a22 = A[1][0], A[1][1]\n",
        "\n",
        "    # Elementos da matriz B\n",
        "    b11, b12 = B[0][0], B[0][1]\n",
        "    b21, b22 = B[1][0], B[1][1]\n",
        "\n",
        "    # Calcula os termos intermediários (Produtos parciais)\n",
        "    P1 = (a11 + a22) * (b11 + b22)\n",
        "    P2 = (a21 + a22) * b11\n",
        "    P3 = a11 * (b12 - b22)\n",
        "    P4 = a22 * (b21 - b11)\n",
        "    P5 = (a11 + a12) * b22\n",
        "    P6 = (a21 - a11) * (b11 + b12)\n",
        "    P7 = (a12 - a22) * (b21 + b22)\n",
        "\n",
        "    # Calcula os elementos da matriz C (resultado)\n",
        "    c11 = P1 + P4 - P5 + P7\n",
        "    c12 = P3 + P5\n",
        "    c21 = P2 + P4\n",
        "    c22 = P1 - P2 + P3 + P6\n",
        "\n",
        "    # Retorna a matriz resultante C\n",
        "    return [[c11, c12], [c21, c22]]\n",
        "\n",
        "\n"
      ]
    },
    {
      "cell_type": "code",
      "source": [
        "# Funções auxiliares para adição e subtração de matrizes\n",
        "def add(A, B):\n",
        "    # Retorna a soma de duas matrizes A e B\n",
        "    return [[A[i][j] + B[i][j] for j in range(len(A[0]))] for i in range(len(A))]\n",
        "\n",
        "def sub(A, B):\n",
        "    # Retorna a subtração de duas matrizes A e B\n",
        "    return [[A[i][j] - B[i][j] for j in range(len(A[0]))] for i in range(len(A))]\n"
      ],
      "metadata": {
        "id": "93Ycd5feDjJi"
      },
      "execution_count": 35,
      "outputs": []
    },
    {
      "cell_type": "code",
      "execution_count": 36,
      "metadata": {
        "id": "wB6K1vnVZexd"
      },
      "outputs": [],
      "source": [
        "def AlgKarstadt(A, B):\n",
        "    n = len(A)  # Tamanho da matriz (assumimos que A é quadrada)\n",
        "\n",
        "    # Caso base para a recursão: se a matriz é 1x1, realiza a multiplicação diretamente\n",
        "    if n == 1:\n",
        "        return [[A[0][0] * B[0][0]]]\n",
        "\n",
        "    mid = n // 2  # Define o ponto médio para dividir a matriz em 4 blocos menores (quadrantes)\n",
        "\n",
        "    # Divide a matriz A em 4 submatrizes (quadrantes): A11, A12, A21 e A22\n",
        "    A11 = [row[:mid] for row in A[:mid]]  # Parte superior esquerda de A\n",
        "    A12 = [row[mid:] for row in A[:mid]]  # Parte superior direita de A\n",
        "    A21 = [row[:mid] for row in A[mid:]]  # Parte inferior esquerda de A\n",
        "    A22 = [row[mid:] for row in A[mid:]]  # Parte inferior direita de A\n",
        "\n",
        "    # Divide a matriz B em 4 submatrizes (quadrantes): B11, B12, B21 e B22\n",
        "    B11 = [row[:mid] for row in B[:mid]]  # Parte superior esquerda de B\n",
        "    B12 = [row[mid:] for row in B[:mid]]  # Parte superior direita de B\n",
        "    B21 = [row[:mid] for row in B[mid:]]  # Parte inferior esquerda de B\n",
        "    B22 = [row[mid:] for row in B[mid:]]  # Parte inferior direita de B\n",
        "\n",
        "    # Calcula os produtos intermediários usando a técnica de Karstadt\n",
        "    M1 = AlgKarstadt(add(A11, A22), add(B11, B22))  # M1 = (A11 + A22) * (B11 + B22)\n",
        "    M2 = AlgKarstadt(add(A21, A22), B11)            # M2 = (A21 + A22) * B11\n",
        "    M3 = AlgKarstadt(A11, sub(B12, B22))            # M3 = A11 * (B12 - B22)\n",
        "    M4 = AlgKarstadt(A22, sub(B21, B11))            # M4 = A22 * (B21 - B11)\n",
        "    M5 = AlgKarstadt(add(A11, A12), B22)            # M5 = (A11 + A12) * B22\n",
        "    M6 = AlgKarstadt(sub(A21, A11), add(B11, B12))  # M6 = (A21 - A11) * (B11 + B12)\n",
        "    M7 = AlgKarstadt(sub(A12, A22), add(B21, B22))  # M7 = (A12 - A22) * (B21 + B22)\n",
        "\n",
        "    # Combina os produtos intermediários para formar os quadrantes da matriz resultante C\n",
        "    C11 = add(sub(add(M1, M4), M5), M7)  # C11 = M1 + M4 - M5 + M7\n",
        "    C12 = add(M3, M5)                    # C12 = M3 + M5\n",
        "    C21 = add(M2, M4)                    # C21 = M2 + M4\n",
        "    C22 = add(sub(add(M1, M3), M2), M6)  # C22 = M1 + M3 - M2 + M6\n",
        "\n",
        "    # Recombina os quadrantes para formar a matriz resultante C\n",
        "    C = np.zeros((n, n), dtype=int)  # Inicializa a matriz C com zeros de tamanho n x n\n",
        "    for i in range(mid):\n",
        "        for j in range(mid):\n",
        "            C[i][j] = C11[i][j]             # Preenche o quadrante superior esquerdo com C11\n",
        "            C[i][j + mid] = C12[i][j]       # Preenche o quadrante superior direito com C12\n",
        "            C[i + mid][j] = C21[i][j]       # Preenche o quadrante inferior esquerdo com C21\n",
        "            C[i + mid][j + mid] = C22[i][j] # Preenche o quadrante inferior direito com C22\n",
        "\n",
        "    return C  # Retorna a matriz resultante C"
      ]
    },
    {
      "cell_type": "code",
      "source": [
        "# Time the algorithms\n",
        "def time_algorithm(algorithm, n):\n",
        "    A = np.random.randint(10, size=(n, n))\n",
        "    B = np.random.randint(10, size=(n, n))\n",
        "    timer = timeit.Timer(lambda: algorithm(A, B))\n",
        "    return timer.timeit(number=1)\n",
        "\n",
        "# Measure the memory used by the algorithims\n",
        "def measure_memory(func, A, B):\n",
        "    mem_usage = memory_usage((func, (A, B)), interval=0.1)\n",
        "    return max(mem_usage) - min(mem_usage)"
      ],
      "metadata": {
        "id": "Z6cMsoLHaDMt"
      },
      "execution_count": 37,
      "outputs": []
    },
    {
      "cell_type": "code",
      "execution_count": 38,
      "metadata": {
        "colab": {
          "base_uri": "https://localhost:8080/"
        },
        "id": "NqOL0YLvBSvJ",
        "outputId": "fa088b78-0198-45d4-9836-e79c121d450c"
      },
      "outputs": [
        {
          "output_type": "stream",
          "name": "stdout",
          "text": [
            "Tempo de execução: 0.000024 segundos\n",
            "Resultado da multiplicação de matrizes Algoritmo Tradicional:\n",
            " [[19. 22.]\n",
            " [43. 50.]]\n",
            "Matrix D Algoritmo Strassen:\n",
            " [[19 22]\n",
            " [43 50]]\n",
            "Matrizes E Algoritmo Winograd:\n",
            "[19, 22]\n",
            "[43, 50]\n",
            "Resultado da multiplicação de matrizes Algoritmo Karstadt:\n",
            " [[19. 22.]\n",
            " [43. 50.]]\n"
          ]
        }
      ],
      "source": [
        "# Exemplo de uso\n",
        "A = np.array([[1, 2], [3, 4]])\n",
        "B = np.array([[5, 6], [7, 8]])\n",
        "\n",
        "# Multiplica as matrizes A e B usando o algoritmo Tradicional\n",
        "C = AlgTradicional(A, B)\n",
        "print(\"Resultado da multiplicação de matrizes Algoritmo Tradicional:\\n\", C)\n",
        "\n",
        "# Multiplica as matrizes A e B usando o algoritmo de Strassen\n",
        "D = AlgStrassen(A, B)\n",
        "print(\"Matrix D Algoritmo Strassen:\\n\", D)\n",
        "\n",
        "# Multiplica as matrizes A e B usando o algoritmo de Winograd\n",
        "E = AlgWinograd(A, B)\n",
        "print(\"Matrizes E Algoritmo Winograd:\")\n",
        "for linha1 in E:\n",
        "    print(linha1)\n",
        "\n",
        "# Multiplica as matrizes A e B usando o algoritmo de Karstadt\n",
        "F = AlgKarstadt(A, B)\n",
        "print(\"Resultado da multiplicação de matrizes Algoritmo Karstadt:\\n\", C)\n"
      ]
    },
    {
      "cell_type": "code",
      "source": [
        "\"\"\"\n",
        "Execução dos códigos e comparação dos tempos, juntamente com a criação de um gráfico\n",
        "\"\"\"\n",
        "\n",
        "# Compara o tempo dos algorítimos\n",
        "# Tamanhos das matrizes para teste\n",
        "\n",
        "sizes = [2, 4, 8, 16, 32, 64]\n",
        "\n",
        "# Tempo de execução para cada algoritmo\n",
        "traditional_times = [time_algorithm(AlgTradicional, n) for n in sizes]\n",
        "strassen_times = [time_algorithm(AlgStrassen, n) for n in sizes]\n",
        "winograd_times = [time_algorithm(AlgWinograd, n) for n in sizes]\n",
        "karstadt_times = [time_algorithm(AlgKarstadt, n) for n in sizes]\n",
        "\n",
        "# Plotando os resultados\n",
        "plt.plot(sizes, traditional_times, label='Tradicional')\n",
        "plt.plot(sizes, strassen_times, label='Strassen')\n",
        "plt.plot(sizes, winograd_times, label='Winograd')\n",
        "plt.plot(sizes, karstadt_times, label='Karstadt')\n",
        "plt.xlabel('Tamanho da Matriz (n)')\n",
        "plt.ylabel('Tempo de Execução (s)')\n",
        "plt.title('Comparação de Desempenho de Algoritmos de Multiplicação de Matrizes')\n",
        "plt.legend()\n",
        "plt.grid(True)\n",
        "plt.show()\n"
      ],
      "metadata": {
        "colab": {
          "base_uri": "https://localhost:8080/",
          "height": 581
        },
        "id": "8bCfqDIacP3a",
        "outputId": "3168fdee-e9a2-494f-aa05-c22397c1db98"
      },
      "execution_count": 39,
      "outputs": [
        {
          "output_type": "stream",
          "name": "stdout",
          "text": [
            "Tempo de execução: 0.000015 segundos\n",
            "Tempo de execução: 0.000095 segundos\n",
            "Tempo de execução: 0.000738 segundos\n",
            "Tempo de execução: 0.010480 segundos\n",
            "Tempo de execução: 0.024647 segundos\n",
            "Tempo de execução: 0.207530 segundos\n"
          ]
        },
        {
          "output_type": "display_data",
          "data": {
            "text/plain": [
              "<Figure size 640x480 with 1 Axes>"
            ],
            "image/png": "[encoded data removed]"
          },
          "metadata": {}
        }
      ]
    },
    {
      "cell_type": "code",
      "source": [
        "# Create two matrices A and B of size 128x128 with random values between 0 and 1\n",
        "A = np.random.rand(128, 128)\n",
        "B = np.random.rand(128, 128)\n",
        "\n",
        "# Measure the memory usage of each algorithm for matrices A and B\n",
        "tradicional_memory = measure_memory(AlgTradicional, A, B)\n",
        "winograd_memory = measure_memory(AlgWinograd, A, B)\n",
        "strassen_memory = measure_memory(AlgStrassen, A, B)\n",
        "karstadt_memory = measure_memory(AlgKarstadt, A, B)\n",
        "\n",
        "# Create a list of algorithm names and their corresponding memory usage\n",
        "algoritmos = ['Tradicional', 'Winograd', 'Strassen', 'Karstadt']\n",
        "memory = [tradicional_memory, winograd_memory, strassen_memory, karstadt_memory]\n",
        "\n",
        "# Crie o gráfico de barras\n",
        "plt.bar(algoritmos, memory)\n",
        "\n",
        "# Configure os rótulos dos eixos\n",
        "plt.xlabel('Algoritmos')\n",
        "plt.ylabel('Uso de Memória')\n",
        "plt.title('Comparação de Uso de Memória dos Algoritmos')\n",
        "\n",
        "# Exiba o gráfico\n",
        "plt.show()"
      ],
      "metadata": {
        "colab": {
          "base_uri": "https://localhost:8080/",
          "height": 490
        },
        "id": "l5oAyhsfCH46",
        "outputId": "99b133d6-1d3e-4da6-b35d-1aeadf720785"
      },
      "execution_count": 40,
      "outputs": [
        {
          "output_type": "stream",
          "name": "stdout",
          "text": [
            "Tempo de execução: 2.667435 segundos\n"
          ]
        },
        {
          "output_type": "display_data",
          "data": {
            "text/plain": [
              "<Figure size 640x480 with 1 Axes>"
            ],
            "image/png": "[encoded data removed]"
          },
          "metadata": {}
        }
      ]
    },
    {
      "cell_type": "markdown",
      "source": [
        "**Método Tradicional:** É o método básico de multiplicação de matrizes,  para cada elemento da matriz resultante, calcula-se a soma dos produtos correspondentes das linhas e colunas das matrizes. Ele é simples e fácil de entender, mas não é o mais eficiente para matrizes grandes.Esse é frequentemente o menos eficiente para matrizes grandes. Para matrizes muito grandes, o método tradicional pode se tornar impraticável em termos de tempo de execução.\n",
        "\n",
        "**Algoritmo de Strassen:** Esse método é mais eficiente que o método tradicional. Ele reduz o número de multiplicações necessárias ao utilizar uma técnica de divisão e conquista. Embora seja mais rápido para matrizes grandes, ele pode ter um custo adicional em termos de uso de memória e complexidade de implementação.\n",
        "\n",
        "**Algoritmo de Winograd:** Esse algoritmo é uma variante do algoritmo de Strassen, mas com uma abordagem que visa reduzir o número de operações aritméticas. Na prática, ele pode ser menos usado devido a sua complexidade de implementação e limitações específicas, tendo que reescrever os codigos a serem utilizados. Embora o algoritmo de Winograd seja uma otimização do método de Strassen, ele não é amplamente utilizado devido à sua complexidade e ao custo adicional de implementação. Em alguns casos, ele pode ser mais lento do que o algoritmo de Strassen puro, especialmente se não houver uma vantagem clara em termos de operações aritméticas reduzidas.\n",
        "\n",
        "**Algoritmo de Karatsuba:** Este método é mais conhecido por sua aplicação na multiplicação de números inteiros, mas também pode ser adaptado para matrizes, o que o torna mais eficiente que os métodos anteriores em alguns casos. No entanto, sua aplicação direta em matrizes não é tão comum quanto os métodos baseados em Strassen."
      ],
      "metadata": {
        "id": "LKVAPoo6ZuFM"
      }
    },
    {
      "cell_type": "markdown",
      "source": [
        "#Resumindo os melhores casos:\n",
        "**Para matrizes grandes:** O algoritmo de Strassen é geralmente preferido por sua complexidade menor em comparação com o método tradicional.\n",
        "**Para matrizes muito grandes:** Métodos mais avançados ou variantes como o de Winograd podem ser considerados, mas sua implementação pode ser mais complexa.\n",
        "**Para casos específicos:** O algoritmo de Karatsuba pode ser mais eficiente em contextos específicos, mas não é tão comum para multiplicação de matrizes quanto os métodos baseados em Strassen."
      ],
      "metadata": {
        "id": "U9gVu3xTaLTW"
      }
    },
    {
      "cell_type": "markdown",
      "source": [
        "#Resumindo os piores casos:\n",
        "\n",
        "Método Tradicional: Menos eficiente para matrizes grandes devido à sua complexidade cúbica.\n",
        "Algoritmo de Winograd: Menos utilizado na prática e pode não oferecer vantagens significativas em alguns contextos.\n",
        "Algoritmo de Karatsuba: Não é comumente utilizado para multiplicação de matrizes, e pode não ser a melhor escolha comparado a algoritmos mais especializados."
      ],
      "metadata": {
        "id": "RCvzjxRXa9gt"
      }
    },
    {
      "cell_type": "markdown",
      "source": [
        "#Conclusão:\n",
        "\n",
        " Portanto, o método tradicional é geralmente o pior em termos de eficiência para grandes matrizes, enquanto o algoritmo de Winograd e o de Karatsuba podem não ser tão eficazes ou práticos em muitos casos de multiplicação de matrizes. Para a maioria dos casos gerais envolvendo multiplicação de matrizes grandes, o algoritmo de Strassen é frequentemente o melhor escolha e para matrizes menores o tradicional pode ser muito bem aplicado."
      ],
      "metadata": {
        "id": "6CoNiFgAbMza"
      }
    }
  ],
  "metadata": {
    "colab": {
      "provenance": []
    },
    "kernelspec": {
      "display_name": "Python 3",
      "name": "python3"
    },
    "language_info": {
      "codemirror_mode": {
        "name": "ipython",
        "version": 3
      },
      "file_extension": ".py",
      "mimetype": "text/x-python",
      "name": "python",
      "nbconvert_exporter": "python",
      "pygments_lexer": "ipython3",
      "version": "3.11.2"
    }
  },
  "nbformat": 4,
  "nbformat_minor": 0
}