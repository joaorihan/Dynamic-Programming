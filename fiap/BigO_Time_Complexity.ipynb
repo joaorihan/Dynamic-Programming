{
  "nbformat": 4,
  "nbformat_minor": 0,
  "metadata": {
    "colab": {
      "provenance": [],
      "authorship_tag": "ABX9TyOL2AzoEHOSWUo5NfpgsuBh",
      "include_colab_link": true
    },
    "kernelspec": {
      "name": "python3",
      "display_name": "Python 3"
    },
    "language_info": {
      "name": "python"
    }
  },
  "cells": [
    {
      "cell_type": "markdown",
      "metadata": {
        "id": "view-in-github",
        "colab_type": "text"
      },
      "source": [
        "<a href=\"https://colab.research.google.com/github/joaorihan/Dynamic-Programming/blob/main/fiap/BigO_Time_Complexity.ipynb\" target=\"_parent\"><img src=\"https://colab.research.google.com/assets/colab-badge.svg\" alt=\"Open In Colab\"/></a>"
      ]
    },
    {
      "cell_type": "code",
      "execution_count": 6,
      "metadata": {
        "id": "691sFx0q9XGu"
      },
      "outputs": [],
      "source": [
        "# Import libraries\n",
        "import pandas as pd\n",
        "import numpy as np\n",
        "import matplotlib.pyplot as plt\n",
        "import seaborn as sns\n",
        "import math\n",
        "import time"
      ]
    },
    {
      "cell_type": "code",
      "source": [
        "# Definicao de algoritimos por função\n",
        "# Dificuldade computacional constante O(1)\n",
        "def const(array, index):\n",
        "  # array = lista de dados para a pesquisa\n",
        "  # index = posição desejada\n",
        "  if index >= len(array):\n",
        "      return None\n",
        "\n",
        "\n",
        "# Dificuldade computacional linear O(n)\n",
        "def linear(array):\n",
        "  # array = lista de dados a ser percorrida\n",
        "  for i in array:\n",
        "    pass\n",
        "\n",
        "# Dificuldade computacional quardrática O(n²)\n",
        "def quad(matrix):\n",
        "  # matrix = matriz de dados a ser percorrida\n",
        "  for i in matrix:\n",
        "    for j in matrix:\n",
        "      pass\n",
        "\n",
        "# Dificuldade computacional logarítmica O(n log n)\n",
        "def logart(array, target):\n",
        "  # array = lista de dados a ser percorrida\n",
        "  # target = valor desejado\n",
        "  array.sort()\n",
        "\n",
        "  mid = len(array) // 2\n",
        "  left = 0\n",
        "  right = len(array) - 1\n",
        "\n",
        "  while array[mid] and left <= right:\n",
        "    if array[mid] == target:\n",
        "      return mid\n",
        "    elif array[mid] < target:\n",
        "      left = mid + 1\n",
        "    else:\n",
        "      right = mid - 1\n",
        "    mid = (left + right) // 2\n",
        "\n",
        "\n",
        "def tempo(algo):\n",
        "  start = time.time()\n",
        "  algo\n",
        "  end = time.time()\n",
        "  duration = end - start\n",
        "  return duration"
      ],
      "metadata": {
        "id": "W_LwEvMe9ZxT"
      },
      "execution_count": 24,
      "outputs": []
    },
    {
      "cell_type": "code",
      "source": [
        "# Testes simples\n",
        "numbers = [1, 3, 4, 5, 6, 8, 2, 66, 34, 21, 199]\n",
        "numbers2 = [[1, 2, 3], [4, 5, 6], [7, 8, 9]]\n",
        "\n",
        "a = tempo(const(numbers, 3))\n",
        "b = tempo(linear(numbers))\n",
        "c = tempo(quad(numbers2))\n",
        "d = tempo(logart(numbers, 2))\n",
        "\n",
        "\n",
        "print(a, b, c, d)"
      ],
      "metadata": {
        "colab": {
          "base_uri": "https://localhost:8080/"
        },
        "id": "CXvUIvoe9gwx",
        "outputId": "8626aa7a-bd86-4870-e507-55ee50c218d1"
      },
      "execution_count": 25,
      "outputs": [
        {
          "output_type": "stream",
          "name": "stdout",
          "text": [
            "2.384185791015625e-07 0.0 2.384185791015625e-07 2.384185791015625e-07\n"
          ]
        }
      ]
    }
  ]
}