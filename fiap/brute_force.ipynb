{
  "nbformat": 4,
  "nbformat_minor": 0,
  "metadata": {
    "colab": {
      "provenance": [],
      "authorship_tag": "ABX9TyOb/Vlv1y2qTrUdPb/9mpOY",
      "include_colab_link": true
    },
    "kernelspec": {
      "name": "python3",
      "display_name": "Python 3"
    },
    "language_info": {
      "name": "python"
    }
  },
  "cells": [
    {
      "cell_type": "markdown",
      "metadata": {
        "id": "view-in-github",
        "colab_type": "text"
      },
      "source": [
        "<a href=\"https://colab.research.google.com/github/joaorihan/Dynamic-Programming/blob/main/fiap/brute_force.ipynb\" target=\"_parent\"><img src=\"https://colab.research.google.com/assets/colab-badge.svg\" alt=\"Open In Colab\"/></a>"
      ]
    },
    {
      "cell_type": "code",
      "source": [
        "# Requisitos\n",
        "import numpy as np # importar biblioteca numpy\n",
        "import time # importar biblioteca time\n",
        "import pandas as pd\n",
        "import matplotlib.pyplot as plt\n",
        "import seaborn as sns"
      ],
      "metadata": {
        "id": "ul-pa8p1434I"
      },
      "execution_count": 20,
      "outputs": []
    },
    {
      "cell_type": "code",
      "execution_count": 9,
      "metadata": {
        "colab": {
          "base_uri": "https://localhost:8080/"
        },
        "id": "Hbve68V-4qrv",
        "outputId": "6b1e91ff-fa80-4059-fa15-1583306971bc"
      },
      "outputs": [
        {
          "output_type": "stream",
          "name": "stdout",
          "text": [
            "[ 2  3  7  4 -7 -7  6  7  5 -6]\n"
          ]
        }
      ],
      "source": [
        "# Declaração de variáveis\n",
        "N = 10 # tamanho do array\n",
        "array = np.random.randint(-10, 10, N) # array de inteiros aleatórios\n",
        "print(array) # imprimir array"
      ]
    },
    {
      "cell_type": "code",
      "source": [
        "# Definição de função\n",
        "def max_soma(array):\n",
        "  # array = input a ser fornecido\n",
        "  soma = 0 # contador local da soma no interior do array\n",
        "  max_soma = 0 # contador local da soma máxima encontrada\n",
        "  for i in range(len(array)): # percorrer o array\n",
        "    for j in range(i, len(array)): # percorrer o array novamente\n",
        "      soma += array[j] # somar os elementos do array\n",
        "    max_soma = max(max_soma, soma) # atualizar o contador local da soma máxima encontrada\n",
        "  return max_soma\n"
      ],
      "metadata": {
        "id": "As_ay9-d5aKe"
      },
      "execution_count": 10,
      "outputs": []
    },
    {
      "cell_type": "code",
      "source": [
        "# Testes\n",
        "tempo = pd.DataFrame()\n",
        "for n in range (100):\n",
        "  array = np.random.randint(-10, 10, n) # array de inteiros aleatórios\n",
        "  start = time.time() # iniciar o cronômetro\n",
        "  v = max_soma(array)  # chamar a função\n",
        "  end = time.time() # parar o cronômetro\n",
        "  sprint = ((end - start), 6) # o tempo de execução\n",
        "  tempo['tamanho'] = n\n",
        "  tempo['tempo_execucao'] = sprint"
      ],
      "metadata": {
        "id": "18KgUAn96sbn"
      },
      "execution_count": 19,
      "outputs": []
    },
    {
      "cell_type": "code",
      "source": [
        "sns.scatterplot(data=tempo, x='tamanho', y='tempo_execucao')\n",
        "plt.show()"
      ],
      "metadata": {
        "colab": {
          "base_uri": "https://localhost:8080/",
          "height": 449
        },
        "id": "OiDg5rXiAR--",
        "outputId": "38829cea-91d1-4796-f799-245cd7121899"
      },
      "execution_count": 22,
      "outputs": [
        {
          "output_type": "display_data",
          "data": {
            "text/plain": [
              "<Figure size 640x480 with 1 Axes>"
            ],
            "image/png": "[encoded data removed]"
          },
          "metadata": {}
        }
      ]
    },
    {
      "cell_type": "code",
      "source": [],
      "metadata": {
        "id": "4ZS0oyMwJGHE"
      },
      "execution_count": null,
      "outputs": []
    }
  ]
}