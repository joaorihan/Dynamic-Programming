{
  "nbformat": 4,
  "nbformat_minor": 0,
  "metadata": {
    "colab": {
      "provenance": [],
      "authorship_tag": "ABX9TyNRjXGFLOLod7Di4usqlqiE",
      "include_colab_link": true
    },
    "kernelspec": {
      "name": "python3",
      "display_name": "Python 3"
    },
    "language_info": {
      "name": "python"
    }
  },
  "cells": [
    {
      "cell_type": "markdown",
      "metadata": {
        "id": "view-in-github",
        "colab_type": "text"
      },
      "source": [
        "<a href=\"https://colab.research.google.com/github/joaorihan/Dynamic-Programming/blob/main/fiap/monte_carlo.ipynb\" target=\"_parent\"><img src=\"https://colab.research.google.com/assets/colab-badge.svg\" alt=\"Open In Colab\"/></a>"
      ]
    },
    {
      "cell_type": "code",
      "execution_count": null,
      "metadata": {
        "id": "q31EOhrc4Kj_"
      },
      "outputs": [],
      "source": [
        "# Bibliotecas\n",
        "import numpy as np\n",
        "import pandas as pd\n",
        "import matplotlib.pyplot as plt\n",
        "import time\n",
        "import math\n",
        "import random"
      ]
    },
    {
      "cell_type": "code",
      "source": [
        "# Parâmetros Técnicos\n",
        "N_dias = 160\n",
        "N_Simulacoes = 1000\n",
        "Baseline = 300\n",
        "T_calor = 16\n",
        "T_frio = 13\n",
        "Beta1 = 0.5\n",
        "Beta2 = 0.5\n",
        "Med_U = 2\n",
        "Std_U = 0.2\n",
        "Med_R = 1\n",
        "Std_R = 0.2"
      ],
      "metadata": {
        "id": "SAwY8D6j4Z5t"
      },
      "execution_count": null,
      "outputs": []
    },
    {
      "cell_type": "code",
      "source": [
        "# Simulações\n",
        "Energia_Simulada = []\n",
        "\n",
        "for i in range(N_Simulacoes):\n",
        "    Energia = []\n",
        "    Usuario = np.random.normal(Med_U, Std_U, N_dias)\n",
        "    Imprevisiveis = np.random.normal(Med_R, Std_R, N_dias)\n",
        "    Temperatura = np.random.normal(Med_T, Std_T, N_dias)\n",
        "    for t in range(N_dias):\n",
        "      Energia[t] = Baseline + Beta1*Temperatura[t] + Beta2*Imprevisiveis[t]\n",
        "      Usuario[t]"
      ],
      "metadata": {
        "id": "Nj7wqaOf4aEt"
      },
      "execution_count": null,
      "outputs": []
    },
    {
      "cell_type": "code",
      "source": [
        "# Plotagem de dados\n",
        "plt.lineplo(data = Energia_Simulada, x = 't', y = 'Energia (kw/h)')\n",
        "plt.xlabel(\"Tempo em dias\")\n",
        "plt.ylabel(\"Energia (kw/h)\")\n",
        "plt.title(\"Energia simulada - Monte Carlo\")\n",
        "plt.grid(True)\n",
        "plt.show()"
      ],
      "metadata": {
        "id": "0gAyh2Dx9zHJ"
      },
      "execution_count": null,
      "outputs": []
    }
  ]
}